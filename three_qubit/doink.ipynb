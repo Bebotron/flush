{
 "cells": [
  {
   "cell_type": "code",
   "execution_count": 1,
   "metadata": {
    "collapsed": false
   },
   "outputs": [],
   "source": [
    "from qutip import *\n",
    "from numpy import savetxt, real, pi"
   ]
  },
  {
   "cell_type": "code",
   "execution_count": 32,
   "metadata": {
    "collapsed": true
   },
   "outputs": [],
   "source": [
    "s0 = Qobj([[1, 0], [0, 0]])\n",
    "s1 = Qobj([[0, 0], [0, 1]])\n",
    "I = qeye(2); a = destroy(2); ad = create(2)\n",
    "rho111 = tensor(s1,s1,s1,s0,s0,s0)\n",
    "z1 = tensor(sigmaz(),I,I,I,I,I)\n",
    "z2 = tensor(I,sigmaz(),I,I,I,I)\n",
    "z3 = tensor(I,I,sigmaz(),I,I,I)\n",
    "x1 = tensor(sigmax(),I,I,I,I,I)\n",
    "x2 = tensor(I,sigmax(),I,I,I,I)\n",
    "x3 = tensor(I,I,sigmax(),I,I,I)\n",
    "a1 = tensor(I,I,I,a,I,I); a1d = tensor(I,I,I,ad,I,I)\n",
    "a2 = tensor(I,I,I,I,a,I); a2d = tensor(I,I,I,I,ad,I)\n",
    "a3 = tensor(I,I,I,I,I,a); a3d = tensor(I,I,I,I,I,ad)\n",
    "HP = -0.02*(z1*z2 + z1*z3 + z2*z3)"
   ]
  },
  {
   "cell_type": "code",
   "execution_count": 31,
   "metadata": {
    "collapsed": false
   },
   "outputs": [],
   "source": [
    "savetxt('doink.txt',real(rho111.full()))"
   ]
  },
  {
   "cell_type": "code",
   "execution_count": 33,
   "metadata": {
    "collapsed": false
   },
   "outputs": [],
   "source": [
    "def lindbladME(cp, cs, rho, H):\n",
    "    return 2j*pi*(rho*H - H*rho) + cp*(x1*rho*x1 - rho) + cs*(a1*rho*a1d - 0.5*(a1d*a1*rho + rho*a1d*a1)) + cp*(x2*rho*x2 - rho) + cs*(a2*rho*a2d - 0.5*(a2d*a2*rho + rho*a2d*a2)) + cp*(x3*rho*x3 - rho) + cs*(a3*rho*a3d - 0.5*(a3d*a3*rho + rho*a3d*a3))"
   ]
  },
  {
   "cell_type": "code",
   "execution_count": 36,
   "metadata": {
    "collapsed": false
   },
   "outputs": [
    {
     "data": {
      "text/plain": [
       "-0.00015000000000000001"
      ]
     },
     "execution_count": 36,
     "metadata": {},
     "output_type": "execute_result"
    }
   ],
   "source": [
    "mat = lindbladME(1e-3/20, 0.03, rho111, HP)\n",
    "(rho111*mat.dag()).tr()"
   ]
  },
  {
   "cell_type": "code",
   "execution_count": 24,
   "metadata": {
    "collapsed": false
   },
   "outputs": [
    {
     "data": {
      "text/plain": [
       "5e-05"
      ]
     },
     "execution_count": 24,
     "metadata": {},
     "output_type": "execute_result"
    }
   ],
   "source": [
    "1e-3/20"
   ]
  },
  {
   "cell_type": "code",
   "execution_count": null,
   "metadata": {
    "collapsed": true
   },
   "outputs": [],
   "source": [
    " inline void basic_funcs::lindbladME(float cp, float cs, MatrixXcd& rho, MatrixXcd& H, MatrixXcd& output) {\n",
    "    output = 2.0*IM*PI*(rho*H - H*rho) \n",
    "             + cp*(X1*rho*X1 - 0.5*(X1*rho + rho*X1)) + cs*(a1*rho*a1d - 0.5*(a1d*a1*rho + rho*a1d*a1))\n",
    "             + cp*(X2*rho*X2 - 0.5*(X2*rho + rho*X2)) + cs*(a2*rho*a2d - 0.5*(a2d*a2*rho + rho*a2d*a2))\n",
    "             + cp*(X3*rho*X3 - 0.5*(X3*rho + rho*X3)) + cs*(a3*rho*a3d - 0.5*(a3d*a3*rho + rho*a3d*a3));\n",
    "    return;\n",
    "}\n",
    "\n",
    "inline void basic_funcs::lindbladRK4(float col1, float col2, float step, MatrixXcd& rho, MatrixXcd& H, MatrixXcd& output) {\n",
    "    MatrixXcd t1, t2, t3, k1, k2, k3, k4;\n",
    "    lindbladME(col1, col2, rho, H, k1);\n",
    "    t1 = rho + 0.5*step*k1; lindbladME(col1, col2, t1, H, k2);\n",
    "    t2 = rho + 0.5*step*k2; lindbladME(col1, col2, t2, H, k3);\n",
    "    t3 = rho + step*k3; lindbladME(col1, col2, t3, H, k4);\n",
    "    output = rho + step*(k1 + 2*k2 + 2*k3 + k4)/6.0;\n",
    "    return;\n",
    "}"
   ]
  }
 ],
 "metadata": {
  "kernelspec": {
   "display_name": "Python 3",
   "language": "python",
   "name": "python3"
  },
  "language_info": {
   "codemirror_mode": {
    "name": "ipython",
    "version": 3
   },
   "file_extension": ".py",
   "mimetype": "text/x-python",
   "name": "python",
   "nbconvert_exporter": "python",
   "pygments_lexer": "ipython3",
   "version": "3.6.0"
  }
 },
 "nbformat": 4,
 "nbformat_minor": 2
}
